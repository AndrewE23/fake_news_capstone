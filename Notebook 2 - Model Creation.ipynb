{
 "cells": [
  {
   "cell_type": "markdown",
   "id": "e0918549",
   "metadata": {},
   "source": [
    "# Fake News Detection NLP - Model Creation\n",
    "\n",
    "**Goal:** To make an NLP algorithm that can detect whether an article is fake news with a high degree of accuracy. This second notebook is designed entirely for the purpose of having a preliminary model that I can start with. If it works well enough then it can be my primary model; otherwise, I can use it to work out what to improve and proceed from there (either with some actual work or else by planning for future work)."
   ]
  },
  {
   "cell_type": "code",
   "execution_count": 199,
   "id": "0c021b17",
   "metadata": {},
   "outputs": [],
   "source": [
    "##================#\n",
    "# Libaries\n",
    "##================#\n",
    "import pandas as pd\n",
    "from pandas.errors import ParserError\n",
    "import numpy as np\n",
    "import ast\n",
    "import regex as re\n",
    "\n",
    "import matplotlib.pyplot as plt\n",
    "import seaborn as sns\n",
    "import pickle\n",
    "\n",
    "import gensim\n",
    "import gensim.downloader as api\n",
    "from gensim.models.keyedvectors import KeyedVectors\n",
    "from gensim.models import Word2Vec\n",
    "\n",
    "from sklearn.feature_extraction.text import CountVectorizer\n",
    "\n",
    "import tensorflow as tf\n",
    "from tensorflow import keras\n",
    "from tensorflow.keras import layers\n",
    "from tensorflow.keras.preprocessing.sequence import pad_sequences\n",
    "from tensorflow.keras.models import Sequential\n",
    "from tensorflow.keras.layers import Dense, Dropout, Embedding, LSTM, Conv1D, MaxPool1D\n",
    "from tensorflow.keras.preprocessing.text import Tokenizer"
   ]
  },
  {
   "cell_type": "markdown",
   "id": "7cf663b8",
   "metadata": {},
   "source": [
    "I am also using Google's Word2Vec for this capstone. While I could make my own Word2Vec model using Gensim, this initial model is being trained on older articles (dating no later than early 2018) and as such relying on my current data to generate my model would likely cause me to run into some issues if I later test with newer articles."
   ]
  },
  {
   "cell_type": "code",
   "execution_count": 158,
   "id": "55c7917a",
   "metadata": {},
   "outputs": [
    {
     "name": "stdout",
     "output_type": "stream",
     "text": [
      "C:\\Users\\Salan/gensim-data\\word2vec-google-news-300\\word2vec-google-news-300.gz\n"
     ]
    }
   ],
   "source": [
    "# API download word2vec to save on cloud, download needs\n",
    "vec_path = api.load(\"word2vec-google-news-300\", return_path=True)\n",
    "print(vec_path)"
   ]
  },
  {
   "cell_type": "code",
   "execution_count": 163,
   "id": "9286d1cb",
   "metadata": {},
   "outputs": [
    {
     "data": {
      "text/html": [
       "<div>\n",
       "<style scoped>\n",
       "    .dataframe tbody tr th:only-of-type {\n",
       "        vertical-align: middle;\n",
       "    }\n",
       "\n",
       "    .dataframe tbody tr th {\n",
       "        vertical-align: top;\n",
       "    }\n",
       "\n",
       "    .dataframe thead th {\n",
       "        text-align: right;\n",
       "    }\n",
       "</style>\n",
       "<table border=\"1\" class=\"dataframe\">\n",
       "  <thead>\n",
       "    <tr style=\"text-align: right;\">\n",
       "      <th></th>\n",
       "      <th>fake_news</th>\n",
       "      <th>tokens</th>\n",
       "    </tr>\n",
       "  </thead>\n",
       "  <tbody>\n",
       "    <tr>\n",
       "      <th>0</th>\n",
       "      <td>0</td>\n",
       "      <td>['kenyan', 'police', 'fired', 'teargas', 'tues...</td>\n",
       "    </tr>\n",
       "    <tr>\n",
       "      <th>1</th>\n",
       "      <td>1</td>\n",
       "      <td>['apparently', 'new', 'world', 'one', 'perfect...</td>\n",
       "    </tr>\n",
       "    <tr>\n",
       "      <th>2</th>\n",
       "      <td>0</td>\n",
       "      <td>['hong', 'kong', 'seeks', 'land', 'help', 'eas...</td>\n",
       "    </tr>\n",
       "    <tr>\n",
       "      <th>3</th>\n",
       "      <td>0</td>\n",
       "      <td>['spain', 'friday', 'issued', 'arrest', 'warra...</td>\n",
       "    </tr>\n",
       "    <tr>\n",
       "      <th>4</th>\n",
       "      <td>0</td>\n",
       "      <td>['iranian', 'military', 'vessel', 'confronted'...</td>\n",
       "    </tr>\n",
       "  </tbody>\n",
       "</table>\n",
       "</div>"
      ],
      "text/plain": [
       "   fake_news                                             tokens\n",
       "0          0  ['kenyan', 'police', 'fired', 'teargas', 'tues...\n",
       "1          1  ['apparently', 'new', 'world', 'one', 'perfect...\n",
       "2          0  ['hong', 'kong', 'seeks', 'land', 'help', 'eas...\n",
       "3          0  ['spain', 'friday', 'issued', 'arrest', 'warra...\n",
       "4          0  ['iranian', 'military', 'vessel', 'confronted'..."
      ]
     },
     "execution_count": 163,
     "metadata": {},
     "output_type": "execute_result"
    }
   ],
   "source": [
    "##================#\n",
    "# Load Train ISOT\n",
    "##================#\n",
    "train_df = pd.read_csv('data/processedISOT/Train.csv')\n",
    "\n",
    "# Drop \"Unnamed: 0\" column, which exists for some reason\n",
    "train_df = train_df.drop('Unnamed: 0', axis=1)\n",
    "\n",
    "# Quick test\n",
    "train_df.head()"
   ]
  },
  {
   "cell_type": "markdown",
   "id": "e5bcc788",
   "metadata": {},
   "source": [
    "### Define Features, Vectorize\n",
    "I already have my tokens, and have chosen to utilize Word2Vec so I do not need the original text to train or test my data. If I were employing a different strategy, such as BERT, then I would have wanted to keep and tokenize sentences instead."
   ]
  },
  {
   "cell_type": "code",
   "execution_count": 164,
   "id": "6945e0a4",
   "metadata": {},
   "outputs": [
    {
     "name": "stdout",
     "output_type": "stream",
     "text": [
      "0        ['kenyan', 'police', 'fired', 'teargas', 'tues...\n",
      "1        ['apparently', 'new', 'world', 'one', 'perfect...\n",
      "2        ['hong', 'kong', 'seeks', 'land', 'help', 'eas...\n",
      "3        ['spain', 'friday', 'issued', 'arrest', 'warra...\n",
      "4        ['iranian', 'military', 'vessel', 'confronted'...\n",
      "                               ...                        \n",
      "30981    ['russia', 'upper', 'house', 'parliament', 'we...\n",
      "30982    ['heard', 'offshore', 'accounts', 'wealthy', '...\n",
      "30983    ['president', 'donald', 'trump', 'poised', 're...\n",
      "30984    ['white', 'house', 'said', 'friday', 'set', 'k...\n",
      "30985    ['ha', 'pbs', 'live', 'feed', 'facebook', 'dem...\n",
      "Name: tokens, Length: 30986, dtype: object\n"
     ]
    }
   ],
   "source": [
    "# Features: X is defined later\n",
    "y = train_df['fake_news']\n",
    "\n",
    "# X will be the following:\n",
    "print(train_df['tokens'])"
   ]
  },
  {
   "cell_type": "markdown",
   "id": "ebc82772",
   "metadata": {},
   "source": [
    "I also needed to decide on a good embedding size for my own Word2Vec, yet I wanted a consistent number to ensure that my variables would be easy enough to plug into a model. Google's embedding size was 300, but it also had a very large dataset to work with so I figured working with a higher-dimensionality than that could ensure I get at least somewhat similar results for terms I should expect to find in my dataset.\n",
    "\n",
    "I define \"Vectorizer B\" first, because that is the pre-trained Word2Vec and much of the code written after will involve \"Vectorizer A\". In other words, I did it for organization."
   ]
  },
  {
   "cell_type": "code",
   "execution_count": 123,
   "id": "9c6b86f4",
   "metadata": {},
   "outputs": [],
   "source": [
    "##================#\n",
    "# Vectorizer B\n",
    "##================#\n",
    "# Import Google's vectorizer for version B of the model\n",
    "w2v_b = gensim.models.KeyedVectors.load_word2vec_format(vec_path, binary=True)"
   ]
  },
  {
   "cell_type": "code",
   "execution_count": 165,
   "id": "fc6d6afc",
   "metadata": {},
   "outputs": [],
   "source": [
    "# Predefined argument 1 - Embedding Size\n",
    "embed_dim = 512"
   ]
  },
  {
   "cell_type": "code",
   "execution_count": 166,
   "id": "e1f93235",
   "metadata": {
    "scrolled": true
   },
   "outputs": [],
   "source": [
    "##================#\n",
    "# Vectorizer A\n",
    "##================#\n",
    "token_lists = train_df['tokens']\n",
    "sentences = [ast.literal_eval(tokens) for tokens in token_lists if tokens]\n",
    "w2v_a = Word2Vec(sentences=sentences, vector_size=embed_dim, min_count=1)"
   ]
  },
  {
   "cell_type": "code",
   "execution_count": 167,
   "id": "14b26f58",
   "metadata": {},
   "outputs": [
    {
     "data": {
      "text/plain": [
       "157641"
      ]
     },
     "execution_count": 167,
     "metadata": {},
     "output_type": "execute_result"
    }
   ],
   "source": [
    "# Predefined argument 2 - Size of Vocabulary\n",
    "vocab_length = len(w2v_a.wv.key_to_index) + 1\n",
    "vocab_length"
   ]
  },
  {
   "cell_type": "markdown",
   "id": "bcff0906",
   "metadata": {},
   "source": [
    "Doing some quick tests, first with my own Word2Vec model:"
   ]
  },
  {
   "cell_type": "code",
   "execution_count": 168,
   "id": "80c77102",
   "metadata": {
    "scrolled": true
   },
   "outputs": [
    {
     "data": {
      "text/plain": [
       "[('mexico', 0.6616427302360535),\n",
       " ('nafta', 0.6612692475318909),\n",
       " ('australia', 0.6470847725868225),\n",
       " ('canadian', 0.6032117009162903),\n",
       " ('tariff', 0.5997135639190674),\n",
       " ('dairy', 0.5830290913581848),\n",
       " ('peso', 0.5792645812034607),\n",
       " ('doingread', 0.5736428499221802),\n",
       " ('renegotiation', 0.5734514594078064),\n",
       " ('tariffs', 0.5719848871231079)]"
      ]
     },
     "execution_count": 168,
     "metadata": {},
     "output_type": "execute_result"
    }
   ],
   "source": [
    "# Word similarity test 1a\n",
    "w2v_a.wv.most_similar(positive=\"canada\")"
   ]
  },
  {
   "cell_type": "code",
   "execution_count": 169,
   "id": "4883abd6",
   "metadata": {},
   "outputs": [
    {
     "data": {
      "text/plain": [
       "[('creek', 0.8483708500862122),\n",
       " ('riverside', 0.843809187412262),\n",
       " ('centro', 0.8418642282485962),\n",
       " ('vista', 0.8284909725189209),\n",
       " ('hillside', 0.8220389485359192),\n",
       " ('marketed', 0.8195032477378845),\n",
       " ('upscale', 0.8181023001670837),\n",
       " ('overnightwitnesses', 0.8178741335868835),\n",
       " ('hollister', 0.8150315880775452),\n",
       " ('fountain', 0.8094220161437988)]"
      ]
     },
     "execution_count": 169,
     "metadata": {},
     "output_type": "execute_result"
    }
   ],
   "source": [
    "# Word similarity test 1b\n",
    "w2v_a.wv.most_similar(positive=\"oak\")"
   ]
  },
  {
   "cell_type": "markdown",
   "id": "f86244b4",
   "metadata": {},
   "source": [
    "And then with Google's:"
   ]
  },
  {
   "cell_type": "code",
   "execution_count": 71,
   "id": "8ace060b",
   "metadata": {
    "scrolled": true
   },
   "outputs": [
    {
     "data": {
      "text/plain": [
       "[('australia', 0.7359464168548584),\n",
       " ('usa', 0.7136157155036926),\n",
       " ('canadian', 0.6989886164665222),\n",
       " ('uk', 0.6821740865707397),\n",
       " ('india', 0.6490968465805054),\n",
       " ('microsoft', 0.6283592581748962),\n",
       " ('malaysia', 0.6214037537574768),\n",
       " ('turbotax', 0.6093018054962158),\n",
       " ('mexico', 0.6087307333946228),\n",
       " ('ireland', 0.6055781245231628)]"
      ]
     },
     "execution_count": 71,
     "metadata": {},
     "output_type": "execute_result"
    }
   ],
   "source": [
    "# Word similarity test 2a\n",
    "w2v_b.most_similar('canada')"
   ]
  },
  {
   "cell_type": "code",
   "execution_count": 111,
   "id": "a1e2b26a",
   "metadata": {},
   "outputs": [
    {
     "data": {
      "text/plain": [
       "[('cedar', 0.6967766284942627),\n",
       " ('oaks', 0.6850836277008057),\n",
       " ('walnut', 0.6754781007766724),\n",
       " ('pine', 0.6602115631103516),\n",
       " ('oak_trees', 0.6532793045043945),\n",
       " ('beech', 0.6491631865501404),\n",
       " ('redwood', 0.6438664197921753),\n",
       " ('birch', 0.6352806091308594),\n",
       " ('sycamore', 0.6303034424781799),\n",
       " ('Douglas_fir', 0.6284433007240295)]"
      ]
     },
     "execution_count": 111,
     "metadata": {},
     "output_type": "execute_result"
    }
   ],
   "source": [
    "# Word similarity test 2b\n",
    "w2v_b.most_similar('oak')"
   ]
  },
  {
   "cell_type": "markdown",
   "id": "fae72162",
   "metadata": {},
   "source": [
    "As can be seen here, the vectors seem to be picking up on some of the same relationships, but Google's is more comprehensive because it was trained on a much larger dataset than I am using, while my data is based entirely on world or political news; it is also restricted to a small period of time, which further limits its potential.\n",
    "\n",
    "That said, my own Word2Vec's vocabulary is comprised of over 157,000 terms that were learned from a high relevant dataset. While it is unlikely that all of these are actually words and/or names, I am satisfied with its potential usability given its demonstrated similarity to Google's Word2Vec for many key subjects.\n",
    "\n",
    "Now we just need to pass the tokens as numbers, since the model will not work with strings."
   ]
  },
  {
   "cell_type": "code",
   "execution_count": 170,
   "id": "83e988f1",
   "metadata": {},
   "outputs": [],
   "source": [
    "# Map actual vocabulary to numbers\n",
    "tokenizer = Tokenizer()\n",
    "tokenizer.fit_on_texts(sentences)\n",
    "X = tokenizer.texts_to_sequences(sentences)\n",
    "word_index = tokenizer.word_index"
   ]
  },
  {
   "cell_type": "markdown",
   "id": "aa912e6b",
   "metadata": {},
   "source": [
    "It's also a good idea to double check how long various articles are, since they need to be sized the same before feeding them to the neural network."
   ]
  },
  {
   "cell_type": "code",
   "execution_count": 171,
   "id": "61286a1a",
   "metadata": {},
   "outputs": [
    {
     "data": {
      "image/png": "[encoded data removed]",
      "text/plain": [
       "<Figure size 640x480 with 1 Axes>"
      ]
     },
     "metadata": {},
     "output_type": "display_data"
    },
    {
     "name": "stdout",
     "output_type": "stream",
     "text": [
      "99% of all articles have this number of tokens or less: 840.1500000000015\n"
     ]
    }
   ],
   "source": [
    "# Plot to detmine optimal padding length\n",
    "sns.histplot([len(x) for x in X], bins=500)\n",
    "plt.xlabel('Sequence Length')\n",
    "plt.ylabel('Frequency')\n",
    "plt.title('Distribution of Sequence Lengths')\n",
    "\n",
    "bottom_99_percentile = np.percentile(sequence_lengths, 99)\n",
    "\n",
    "plt.axvline(bottom_99_percentile, color='c', linestyle='--', label='Bottom 99%')\n",
    "\n",
    "plt.legend()\n",
    "plt.show()\n",
    "\n",
    "print(\"99% of all articles have this number of tokens or less:\", bottom_99_percentile)"
   ]
  },
  {
   "cell_type": "markdown",
   "id": "c8839728",
   "metadata": {},
   "source": [
    "I decided to set 99% as the marker because I needed some kind of baseline and figured that getting an idea of what ballpark a clear supermajority of articles fall under would work for that baseline. I also wanted to avoid possible data loss by setting it much lower than that, which works because this at least removes outliers from the equation."
   ]
  },
  {
   "cell_type": "code",
   "execution_count": 172,
   "id": "104cefa1",
   "metadata": {},
   "outputs": [],
   "source": [
    "# Predefined argument 3 - Input Length\n",
    "maxlen = 840\n",
    "\n",
    "# Pad (and truncate) for consistent lengths; necessary for a neural network\n",
    "X = pad_sequences(X, maxlen=maxlen)"
   ]
  },
  {
   "cell_type": "markdown",
   "id": "c590c4b4",
   "metadata": {},
   "source": [
    "### Establish, Export Models\n",
    "Now I need to set up a pair of models so that I can begin classifying news articles, whether real or fake. Keras provides a few options I can use for deep learning objectives, so I have decided to use a sequential model. The trained model will be pickled and further evaluated in Notebook 3."
   ]
  },
  {
   "cell_type": "markdown",
   "id": "d4704f24",
   "metadata": {},
   "source": [
    "**Model A:**"
   ]
  },
  {
   "cell_type": "code",
   "execution_count": 182,
   "id": "e03119fe",
   "metadata": {},
   "outputs": [],
   "source": [
    "# Create Weight Matrix\n",
    "def get_weight_matrix(model, word_index):\n",
    "    vocab_size = len(word_index) + 1\n",
    "    weight_matrix = np.zeros((vocab_size, embed_dim))\n",
    "    for word, i in word_index.items():\n",
    "        if word in model.wv:\n",
    "            weight_matrix[i] = model.wv.get_vector(word)\n",
    "    return weight_matrix"
   ]
  },
  {
   "cell_type": "code",
   "execution_count": 186,
   "id": "f86cf894",
   "metadata": {},
   "outputs": [],
   "source": [
    "# Fetch embedding vectors\n",
    "embedding_vectors = get_weight_matrix(w2v_a, word_index)"
   ]
  },
  {
   "cell_type": "code",
   "execution_count": 178,
   "id": "473799c7",
   "metadata": {},
   "outputs": [],
   "source": [
    "##================#\n",
    "# Model A\n",
    "##================#\n",
    "model_a = Sequential()\n",
    "model_a.add(Embedding(input_dim=vocab_length, output_dim=embed_dim, weights=[embedding_vectors], input_length=maxlen, trainable=False))\n",
    "model_a.add(LSTM(units=128))\n",
    "model_a.add(Dense(units=1, activation='sigmoid'))\n",
    "model_a.compile(loss='binary_crossentropy', optimizer='adam', metrics=['accuracy'])"
   ]
  },
  {
   "cell_type": "code",
   "execution_count": 179,
   "id": "a20ffe2f",
   "metadata": {
    "scrolled": true
   },
   "outputs": [
    {
     "name": "stdout",
     "output_type": "stream",
     "text": [
      "Epoch 1/3\n",
      "969/969 [==============================] - 1311s 1s/step - loss: 0.0868 - accuracy: 0.9681\n",
      "Epoch 2/3\n",
      "969/969 [==============================] - 1313s 1s/step - loss: 0.0396 - accuracy: 0.9863\n",
      "Epoch 3/3\n",
      "969/969 [==============================] - 1417s 1s/step - loss: 0.0265 - accuracy: 0.9917\n"
     ]
    },
    {
     "data": {
      "text/plain": [
       "<keras.callbacks.History at 0x22763434dc0>"
      ]
     },
     "execution_count": 179,
     "metadata": {},
     "output_type": "execute_result"
    }
   ],
   "source": [
    "model_a.fit(X, y, epochs=3)"
   ]
  },
  {
   "cell_type": "markdown",
   "id": "d1a80d40",
   "metadata": {},
   "source": [
    "Reminder: The accuracy rating should be taken with a grain of salt at this stage; all it means is that it could predict any of the articles within the training set well, but it has not been validated yet."
   ]
  },
  {
   "cell_type": "code",
   "execution_count": 180,
   "id": "f2ebc460",
   "metadata": {},
   "outputs": [],
   "source": [
    "# Export the trained model using pickle\n",
    "pickle.dump(model_a, open('models/fakenews_model_1.pkl', 'wb'))"
   ]
  },
  {
   "cell_type": "markdown",
   "id": "c71a5848",
   "metadata": {},
   "source": [
    "**Model B:**"
   ]
  },
  {
   "cell_type": "code",
   "execution_count": 190,
   "id": "5f757973",
   "metadata": {},
   "outputs": [],
   "source": [
    "# Predefined arguments\n",
    "embed_dim = 300"
   ]
  },
  {
   "cell_type": "code",
   "execution_count": 192,
   "id": "407db35d",
   "metadata": {},
   "outputs": [],
   "source": [
    "embedding_matrix = np.zeros((vocab_length, embed_dim))\n",
    "for word, i in word_index.items():\n",
    "    try:\n",
    "        embedding_vector = w2v_b[word]\n",
    "        embedding_matrix[i] = embedding_vector\n",
    "    except KeyError:\n",
    "        embedding_matrix[i]=np.random.normal(0,np.sqrt(0.25), embed_dim)"
   ]
  },
  {
   "cell_type": "code",
   "execution_count": 194,
   "id": "b33d8e82",
   "metadata": {},
   "outputs": [],
   "source": [
    "##================#\n",
    "# Model B\n",
    "##================#\n",
    "model_b = Sequential()\n",
    "model_b.add(Embedding(input_dim=vocab_length, output_dim=embed_dim, weights=[embedding_matrix], input_length=maxlen, trainable=False))\n",
    "model_b.add(LSTM(units=128))\n",
    "model_b.add(Dense(units=1, activation='sigmoid'))\n",
    "model_b.compile(loss='binary_crossentropy', optimizer='adam', metrics=['accuracy'])"
   ]
  },
  {
   "cell_type": "code",
   "execution_count": 197,
   "id": "698ae958",
   "metadata": {},
   "outputs": [
    {
     "name": "stdout",
     "output_type": "stream",
     "text": [
      "Epoch 1/6\n",
      "969/969 [==============================] - 814s 840ms/step - loss: 0.0767 - accuracy: 0.9735\n",
      "Epoch 2/6\n",
      "969/969 [==============================] - 769s 793ms/step - loss: 0.0512 - accuracy: 0.9830\n",
      "Epoch 3/6\n",
      "969/969 [==============================] - 788s 813ms/step - loss: 0.0363 - accuracy: 0.9881\n",
      "Epoch 4/6\n",
      "969/969 [==============================] - 858s 885ms/step - loss: 0.0292 - accuracy: 0.9905\n",
      "Epoch 5/6\n",
      "969/969 [==============================] - 996s 1s/step - loss: 0.0220 - accuracy: 0.9925\n",
      "Epoch 6/6\n",
      "969/969 [==============================] - 944s 974ms/step - loss: 0.0198 - accuracy: 0.9934\n"
     ]
    },
    {
     "data": {
      "text/plain": [
       "<keras.callbacks.History at 0x227600e76d0>"
      ]
     },
     "execution_count": 197,
     "metadata": {},
     "output_type": "execute_result"
    }
   ],
   "source": [
    "model_b.fit(X, y, epochs=6)"
   ]
  },
  {
   "cell_type": "code",
   "execution_count": 198,
   "id": "561f11b5",
   "metadata": {},
   "outputs": [],
   "source": [
    "# Export the trained model using pickle\n",
    "pickle.dump(model_b, open('models/fakenews_model_2.pkl', 'wb'))"
   ]
  }
 ],
 "metadata": {
  "kernelspec": {
   "display_name": "Python 3 (ipykernel)",
   "language": "python",
   "name": "python3"
  },
  "language_info": {
   "codemirror_mode": {
    "name": "ipython",
    "version": 3
   },
   "file_extension": ".py",
   "mimetype": "text/x-python",
   "name": "python",
   "nbconvert_exporter": "python",
   "pygments_lexer": "ipython3",
   "version": "3.10.11"
  }
 },
 "nbformat": 4,
 "nbformat_minor": 5
}
