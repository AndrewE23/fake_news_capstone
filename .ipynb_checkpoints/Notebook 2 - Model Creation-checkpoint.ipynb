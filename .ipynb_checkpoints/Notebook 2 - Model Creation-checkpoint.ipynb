{
 "cells": [
  {
   "cell_type": "markdown",
   "id": "e0918549",
   "metadata": {},
   "source": [
    "# Fake News Detection NLP - Initial Model\n",
    "\n",
    "**Goal:** To make an NLP algorithm that can detect whether an article is fake news with a high degree of accuracy. This first notebook is designed entirely for the purpose of having a preliminary model that I can start with. If it works well enough then it can be my primary model; otherwise, I can use it to work out what to improve and proceed from there (either with some actual work or else by planning for future work).\n",
    "\n",
    "**Hypothesis:** I am going into this with a decent understanding of how NLP algorithms work, so I expect my initial model to be better at picking up on differences in writing style rather than actual accuracy. Since the \"True\" news set is filled _only_ with Reuters articles, I also expect this to contribute to this because, while various journalists and news publications tend to have actual editorial standards, these can vary across publications. I have some ideas on how to refine the model after the fact, but I need to either prove or disprove my hypothesis before I can carry them out."
   ]
  },
  {
   "cell_type": "code",
   "execution_count": 36,
   "id": "0c021b17",
   "metadata": {},
   "outputs": [],
   "source": [
    "##================#\n",
    "# Libaries\n",
    "##================#\n",
    "import pandas as pd\n",
    "from pandas.errors import ParserError\n",
    "import numpy as np\n",
    "import ast\n",
    "import regex as re\n",
    "\n",
    "import matplotlib.pyplot as plt\n",
    "import seaborn as sns\n",
    "import pickle\n",
    "\n",
    "import gensim\n",
    "import gensim.downloader as api\n",
    "from gensim.models.keyedvectors import KeyedVectors\n",
    "from gensim.models import Word2Vec\n",
    "\n",
    "from sklearn.feature_extraction.text import CountVectorizer\n",
    "from sklearn.metrics import accuracy_score, precision_score, recall_score, f1_score\n",
    "\n",
    "import tensorflow as tf\n",
    "from tensorflow import keras\n",
    "from tensorflow.keras import layers\n",
    "from tensorflow.keras.preprocessing.sequence import pad_sequences\n",
    "from tensorflow.keras.models import Sequential\n",
    "from tensorflow.keras.layers import Dense, Dropout, Embedding, LSTM, Conv1D, MaxPool1D\n",
    "from tensorflow.keras.preprocessing.text import Tokenizer"
   ]
  },
  {
   "cell_type": "markdown",
   "id": "7cf663b8",
   "metadata": {},
   "source": [
    "I am also using Google's Word2Vec for this capstone. While I could make my own Word2Vec model using Gensim, this initial model is being trained on older articles (dating no later than early 2018) and as such relying on my current data to generate my model would likely cause me to run into some issues if I later test with newer articles."
   ]
  },
  {
   "cell_type": "code",
   "execution_count": 2,
   "id": "55c7917a",
   "metadata": {},
   "outputs": [
    {
     "name": "stdout",
     "output_type": "stream",
     "text": [
      "C:\\Users\\Salan/gensim-data\\word2vec-google-news-300\\word2vec-google-news-300.gz\n"
     ]
    }
   ],
   "source": [
    "# API download word2vec to save on local resources\n",
    "vec_path = api.load(\"word2vec-google-news-300\", return_path=True)\n",
    "print(vec_path)"
   ]
  },
  {
   "cell_type": "code",
   "execution_count": 3,
   "id": "9286d1cb",
   "metadata": {},
   "outputs": [
    {
     "data": {
      "text/html": [
       "<div>\n",
       "<style scoped>\n",
       "    .dataframe tbody tr th:only-of-type {\n",
       "        vertical-align: middle;\n",
       "    }\n",
       "\n",
       "    .dataframe tbody tr th {\n",
       "        vertical-align: top;\n",
       "    }\n",
       "\n",
       "    .dataframe thead th {\n",
       "        text-align: right;\n",
       "    }\n",
       "</style>\n",
       "<table border=\"1\" class=\"dataframe\">\n",
       "  <thead>\n",
       "    <tr style=\"text-align: right;\">\n",
       "      <th></th>\n",
       "      <th>title</th>\n",
       "      <th>text</th>\n",
       "      <th>subject</th>\n",
       "      <th>date</th>\n",
       "      <th>fake_news</th>\n",
       "      <th>og_article</th>\n",
       "      <th>tokens</th>\n",
       "    </tr>\n",
       "  </thead>\n",
       "  <tbody>\n",
       "    <tr>\n",
       "      <th>0</th>\n",
       "      <td>senators introduce bill to block expansion of ...</td>\n",
       "      <td>small group of bipartisan senators introduced ...</td>\n",
       "      <td>politicsnews</td>\n",
       "      <td>2016-05-19</td>\n",
       "      <td>0</td>\n",
       "      <td>WASHINGTON (Reuters) - A small group of bipart...</td>\n",
       "      <td>['small', 'group', 'bipartisan', 'senators', '...</td>\n",
       "    </tr>\n",
       "    <tr>\n",
       "      <th>1</th>\n",
       "      <td>exfbi chief comey to testify next week in russ...</td>\n",
       "      <td>former fbi director james comey will testify n...</td>\n",
       "      <td>politicsnews</td>\n",
       "      <td>2017-06-01</td>\n",
       "      <td>0</td>\n",
       "      <td>WASHINGTON (Reuters) - Former FBI Director Jam...</td>\n",
       "      <td>['former', 'fbi', 'director', 'james', 'comey'...</td>\n",
       "    </tr>\n",
       "    <tr>\n",
       "      <th>2</th>\n",
       "      <td>germanys greens all but rule out threeway jama...</td>\n",
       "      <td>germany greens on saturday all but ruled out t...</td>\n",
       "      <td>worldnews</td>\n",
       "      <td>2017-09-09</td>\n",
       "      <td>0</td>\n",
       "      <td>BERLIN (Reuters) - Germany s Greens on Saturda...</td>\n",
       "      <td>['germany', 'greens', 'saturday', 'ruled', 'th...</td>\n",
       "    </tr>\n",
       "    <tr>\n",
       "      <th>3</th>\n",
       "      <td>humiliating democrats use russian warships as ...</td>\n",
       "      <td>maybe hillary russian uranium deal included ca...</td>\n",
       "      <td>politics</td>\n",
       "      <td>2016-07-29</td>\n",
       "      <td>1</td>\n",
       "      <td>Maybe Hillary s Russian uranium deal included ...</td>\n",
       "      <td>['maybe', 'hillary', 'russian', 'uranium', 'de...</td>\n",
       "    </tr>\n",
       "    <tr>\n",
       "      <th>4</th>\n",
       "      <td>report melania and barron trump will not be mo...</td>\n",
       "      <td>presidentelect donald trump recently asked his...</td>\n",
       "      <td>news</td>\n",
       "      <td>2016-11-20</td>\n",
       "      <td>1</td>\n",
       "      <td>President-elect Donald Trump recently asked hi...</td>\n",
       "      <td>['presidentelect', 'donald', 'trump', 'recentl...</td>\n",
       "    </tr>\n",
       "  </tbody>\n",
       "</table>\n",
       "</div>"
      ],
      "text/plain": [
       "                                               title  \\\n",
       "0  senators introduce bill to block expansion of ...   \n",
       "1  exfbi chief comey to testify next week in russ...   \n",
       "2  germanys greens all but rule out threeway jama...   \n",
       "3  humiliating democrats use russian warships as ...   \n",
       "4  report melania and barron trump will not be mo...   \n",
       "\n",
       "                                                text       subject  \\\n",
       "0  small group of bipartisan senators introduced ...  politicsnews   \n",
       "1  former fbi director james comey will testify n...  politicsnews   \n",
       "2  germany greens on saturday all but ruled out t...     worldnews   \n",
       "3  maybe hillary russian uranium deal included ca...      politics   \n",
       "4  presidentelect donald trump recently asked his...          news   \n",
       "\n",
       "         date  fake_news                                         og_article  \\\n",
       "0  2016-05-19          0  WASHINGTON (Reuters) - A small group of bipart...   \n",
       "1  2017-06-01          0  WASHINGTON (Reuters) - Former FBI Director Jam...   \n",
       "2  2017-09-09          0  BERLIN (Reuters) - Germany s Greens on Saturda...   \n",
       "3  2016-07-29          1  Maybe Hillary s Russian uranium deal included ...   \n",
       "4  2016-11-20          1  President-elect Donald Trump recently asked hi...   \n",
       "\n",
       "                                              tokens  \n",
       "0  ['small', 'group', 'bipartisan', 'senators', '...  \n",
       "1  ['former', 'fbi', 'director', 'james', 'comey'...  \n",
       "2  ['germany', 'greens', 'saturday', 'ruled', 'th...  \n",
       "3  ['maybe', 'hillary', 'russian', 'uranium', 'de...  \n",
       "4  ['presidentelect', 'donald', 'trump', 'recentl...  "
      ]
     },
     "execution_count": 3,
     "metadata": {},
     "output_type": "execute_result"
    }
   ],
   "source": [
    "##================#\n",
    "# Load revised ISOT\n",
    "##================#\n",
    "train_df = pd.read_csv('data/processedISOT/Train.csv')\n",
    "test_df = pd.read_csv('data/processedISOT/Test.csv')\n",
    "\n",
    "# Drop \"Unnamed: 0\" column, which exists for some reason\n",
    "train_df = train_df.drop('Unnamed: 0', axis=1)\n",
    "test_df = test_df.drop('Unnamed: 0', axis=1)\n",
    "\n",
    "# Quick test\n",
    "train_df.head()"
   ]
  },
  {
   "cell_type": "markdown",
   "id": "e5bcc788",
   "metadata": {},
   "source": [
    "### Define Features, Vectorize\n",
    "I need to decide on what features to include. For this initial model, I have chosen to drop 'subject', 'og_article', and 'date', and combine 'title' and 'text'; I do not want the specific subjects to have any influence over whether an article is deemed accurate or not. I just need the combined 'text' and 'tokens' features, along with 'fake_news' as my dependent variable. My reasoning for excluding the other variables is as follows:\n",
    "- 'subject' is inconsistently defined between both of the original datasets. While I could have categorized the fake news subjects into two categories to fit them into the categories given in the real news dataset, an article's subject matter shouldn't have any bearing on its accuracy.\n",
    "- 'og_article' is basically just the same as 'text', but with absolutely no cleaning applied. I kept it entirely to save time in case I find I need it later, **although this can be bad practice if it takes up precious storage or computation resources.**\n",
    "- 'date' is something that could be useful in theory, but only if the model can get sophisticated enough to determine an article's accuracy based on when it was published. For example, an article talking about how \"experts believe lockdowns are imminent with this new virus\" could be accurate in the context of a 2020 article about COVID-19, but not if the article predates the COVID-19 pandemic entirely. I kept it around as an option to explore later, time permitting."
   ]
  },
  {
   "cell_type": "code",
   "execution_count": 4,
   "id": "048ef06c",
   "metadata": {},
   "outputs": [],
   "source": [
    "##================#\n",
    "# Condense data\n",
    "##================#\n",
    "def combine_text(df, column1, column2):\n",
    "    df[column1] = df[column2] + \" \" + df[column1]\n",
    "    return df\n",
    "\n",
    "def drop_features(df, columns):\n",
    "    for column in columns:\n",
    "        df = df.drop(column, axis=1)\n",
    "    return df"
   ]
  },
  {
   "cell_type": "code",
   "execution_count": 5,
   "id": "6945e0a4",
   "metadata": {},
   "outputs": [
    {
     "data": {
      "text/html": [
       "<div>\n",
       "<style scoped>\n",
       "    .dataframe tbody tr th:only-of-type {\n",
       "        vertical-align: middle;\n",
       "    }\n",
       "\n",
       "    .dataframe tbody tr th {\n",
       "        vertical-align: top;\n",
       "    }\n",
       "\n",
       "    .dataframe thead th {\n",
       "        text-align: right;\n",
       "    }\n",
       "</style>\n",
       "<table border=\"1\" class=\"dataframe\">\n",
       "  <thead>\n",
       "    <tr style=\"text-align: right;\">\n",
       "      <th></th>\n",
       "      <th>text</th>\n",
       "    </tr>\n",
       "  </thead>\n",
       "  <tbody>\n",
       "    <tr>\n",
       "      <th>0</th>\n",
       "      <td>senators introduce bill to block expansion of ...</td>\n",
       "    </tr>\n",
       "    <tr>\n",
       "      <th>1</th>\n",
       "      <td>exfbi chief comey to testify next week in russ...</td>\n",
       "    </tr>\n",
       "    <tr>\n",
       "      <th>2</th>\n",
       "      <td>germanys greens all but rule out threeway jama...</td>\n",
       "    </tr>\n",
       "    <tr>\n",
       "      <th>3</th>\n",
       "      <td>humiliating democrats use russian warships as ...</td>\n",
       "    </tr>\n",
       "    <tr>\n",
       "      <th>4</th>\n",
       "      <td>report melania and barron trump will not be mo...</td>\n",
       "    </tr>\n",
       "  </tbody>\n",
       "</table>\n",
       "</div>"
      ],
      "text/plain": [
       "                                                text\n",
       "0  senators introduce bill to block expansion of ...\n",
       "1  exfbi chief comey to testify next week in russ...\n",
       "2  germanys greens all but rule out threeway jama...\n",
       "3  humiliating democrats use russian warships as ...\n",
       "4  report melania and barron trump will not be mo..."
      ]
     },
     "execution_count": 5,
     "metadata": {},
     "output_type": "execute_result"
    }
   ],
   "source": [
    "# Combine text features\n",
    "train_df2 = combine_text(train_df, 'text', 'title')\n",
    "test_df2 = combine_text(test_df, 'text', 'title')\n",
    "\n",
    "# Define columns to drop\n",
    "drop_cols = ['fake_news', 'title', 'subject', 'date', 'og_article', 'tokens']\n",
    "\n",
    "# Features\n",
    "X_train = drop_features(train_df2, drop_cols)\n",
    "y_train = train_df['fake_news']\n",
    "\n",
    "X_test = drop_features(test_df2, drop_cols)\n",
    "y_test = test_df['fake_news']\n",
    "\n",
    "# Quick test\n",
    "X_train.head()"
   ]
  },
  {
   "cell_type": "markdown",
   "id": "f92de4e9",
   "metadata": {},
   "source": [
    "I also needed to decide on a good embedding size for my own Word2Vec, yet I wanted a consistent number to ensure that my variables would be easy enough to plug into a model. Google's embedding size was 300, but it also had a very large dataset to work with so I figured working with a higher-dimensionality than that could ensure I get at least somewhat similar results for terms I should expect to find in my dataset.\n",
    "\n",
    "I define \"Vectorizer B\" first, because that is the pre-trained Word2Vec and much of the code written after will involve \"Vectorizer A\". In other words, I did it for organization."
   ]
  },
  {
   "cell_type": "code",
   "execution_count": 7,
   "id": "9c6b86f4",
   "metadata": {},
   "outputs": [],
   "source": [
    "##================#\n",
    "# Vectorizer B\n",
    "##================#\n",
    "# Import Google's vectorizer for version B of the model\n",
    "w2v_b = gensim.models.KeyedVectors.load_word2vec_format(vec_path, binary=True)"
   ]
  },
  {
   "cell_type": "code",
   "execution_count": 76,
   "id": "59a79610",
   "metadata": {},
   "outputs": [],
   "source": [
    "# Predefined argument 1 - Embedding Size\n",
    "embed_dim = 512"
   ]
  },
  {
   "cell_type": "code",
   "execution_count": 77,
   "id": "e1f93235",
   "metadata": {
    "scrolled": true
   },
   "outputs": [],
   "source": [
    "##================#\n",
    "# Vectorizer A\n",
    "##================#\n",
    "token_lists = train_df['tokens']\n",
    "sentences = [ast.literal_eval(tokens) for tokens in token_lists if tokens]\n",
    "w2v_a = Word2Vec(sentences=sentences, vector_size=embed_dim, min_count=1)"
   ]
  },
  {
   "cell_type": "code",
   "execution_count": 82,
   "id": "14b26f58",
   "metadata": {},
   "outputs": [
    {
     "data": {
      "text/plain": [
       "157649"
      ]
     },
     "execution_count": 82,
     "metadata": {},
     "output_type": "execute_result"
    }
   ],
   "source": [
    "# Predefined argument 2 - Size of Vocabulary\n",
    "vocab_length = len(w2v_a.wv.key_to_index) + 1\n",
    "vocab_length"
   ]
  },
  {
   "cell_type": "markdown",
   "id": "bcff0906",
   "metadata": {},
   "source": [
    "Doing some quick tests, first with my own Word2Vec model:"
   ]
  },
  {
   "cell_type": "code",
   "execution_count": 78,
   "id": "80c77102",
   "metadata": {
    "scrolled": true
   },
   "outputs": [
    {
     "data": {
      "text/plain": [
       "[('australia', 0.6868494153022766),\n",
       " ('nafta', 0.677556037902832),\n",
       " ('canadian', 0.6493973731994629),\n",
       " ('mexico', 0.6476223468780518),\n",
       " ('softwood', 0.643951952457428),\n",
       " ('lumber', 0.6077786087989807),\n",
       " ('guajardo', 0.5914790630340576),\n",
       " ('mohtar', 0.5888551473617554),\n",
       " ('peru', 0.5879770517349243),\n",
       " ('japan', 0.5754650831222534)]"
      ]
     },
     "execution_count": 78,
     "metadata": {},
     "output_type": "execute_result"
    }
   ],
   "source": [
    "# Word similarity test 1a\n",
    "w2v_a.wv.most_similar(positive=\"canada\")"
   ]
  },
  {
   "cell_type": "code",
   "execution_count": 79,
   "id": "4883abd6",
   "metadata": {},
   "outputs": [
    {
     "data": {
      "text/plain": [
       "[('centro', 0.8644198775291443),\n",
       " ('maywood', 0.8528702259063721),\n",
       " ('chaiten', 0.8297169208526611),\n",
       " ('lafayette', 0.8251321315765381),\n",
       " ('highschool', 0.8200455904006958),\n",
       " ('riverside', 0.8167972564697266),\n",
       " ('tor', 0.8130035996437073),\n",
       " ('scenic', 0.8123588562011719),\n",
       " ('brickell', 0.8122645020484924),\n",
       " ('hercules', 0.811380922794342)]"
      ]
     },
     "execution_count": 79,
     "metadata": {},
     "output_type": "execute_result"
    }
   ],
   "source": [
    "# Word similarity test 1b\n",
    "w2v_a.wv.most_similar(positive=\"oak\")"
   ]
  },
  {
   "cell_type": "markdown",
   "id": "f86244b4",
   "metadata": {},
   "source": [
    "And then with Google's:"
   ]
  },
  {
   "cell_type": "code",
   "execution_count": 71,
   "id": "8ace060b",
   "metadata": {
    "scrolled": true
   },
   "outputs": [
    {
     "data": {
      "text/plain": [
       "[('australia', 0.7359464168548584),\n",
       " ('usa', 0.7136157155036926),\n",
       " ('canadian', 0.6989886164665222),\n",
       " ('uk', 0.6821740865707397),\n",
       " ('india', 0.6490968465805054),\n",
       " ('microsoft', 0.6283592581748962),\n",
       " ('malaysia', 0.6214037537574768),\n",
       " ('turbotax', 0.6093018054962158),\n",
       " ('mexico', 0.6087307333946228),\n",
       " ('ireland', 0.6055781245231628)]"
      ]
     },
     "execution_count": 71,
     "metadata": {},
     "output_type": "execute_result"
    }
   ],
   "source": [
    "# Word similarity test 2a\n",
    "w2v_b.most_similar('canada')"
   ]
  },
  {
   "cell_type": "code",
   "execution_count": 111,
   "id": "a1e2b26a",
   "metadata": {},
   "outputs": [
    {
     "data": {
      "text/plain": [
       "[('cedar', 0.6967766284942627),\n",
       " ('oaks', 0.6850836277008057),\n",
       " ('walnut', 0.6754781007766724),\n",
       " ('pine', 0.6602115631103516),\n",
       " ('oak_trees', 0.6532793045043945),\n",
       " ('beech', 0.6491631865501404),\n",
       " ('redwood', 0.6438664197921753),\n",
       " ('birch', 0.6352806091308594),\n",
       " ('sycamore', 0.6303034424781799),\n",
       " ('Douglas_fir', 0.6284433007240295)]"
      ]
     },
     "execution_count": 111,
     "metadata": {},
     "output_type": "execute_result"
    }
   ],
   "source": [
    "# Word similarity test 2b\n",
    "w2v_b.most_similar('oak')"
   ]
  },
  {
   "cell_type": "markdown",
   "id": "fae72162",
   "metadata": {},
   "source": [
    "As can be seen here, the vectors seem to be picking up on some of the same relationships, but Google's is more comprehensive because it was trained on a much larger dataset than I am using, while my data is based entirely on world or political news; it is also restricted to a small period of time, which further limits its potential.\n",
    "\n",
    "That said, my own Word2Vec's vocabulary is comprised of over 157,000 terms that were learned from a high relevant dataset. While it is unlikely that all of these are actually words and/or names, I am satisfied with its potential usability given its demonstrated similarity to Google's Word2Vec for many key subjects.\n",
    "\n",
    "Now we just need to pass the tokens as numbers, since the model will not work with strings."
   ]
  },
  {
   "cell_type": "code",
   "execution_count": 90,
   "id": "24f787a7",
   "metadata": {},
   "outputs": [],
   "source": [
    "# Map actual vocabulary to numbers\n",
    "tokenizer = Tokenizer()\n",
    "tokenizer.fit_on_texts(sentences)\n",
    "X = tokenizer.texts_to_sequences(sentences)"
   ]
  },
  {
   "cell_type": "markdown",
   "id": "345e28fd",
   "metadata": {},
   "source": [
    "It's also a good idea to double check how long various articles are, since they need to be sized the same before feeding them to the neural network."
   ]
  },
  {
   "cell_type": "code",
   "execution_count": 88,
   "id": "14673ca3",
   "metadata": {},
   "outputs": [
    {
     "data": {
      "image/png": "[encoded data removed]",
      "text/plain": [
       "<Figure size 640x480 with 1 Axes>"
      ]
     },
     "metadata": {},
     "output_type": "display_data"
    },
    {
     "name": "stdout",
     "output_type": "stream",
     "text": [
      "99% of all articles have this number of tokens or less: 840.1500000000015\n"
     ]
    }
   ],
   "source": [
    "# Plot to detmine optimal padding length\n",
    "sns.histplot([len(x) for x in X], bins=500)\n",
    "plt.xlabel('Sequence Length')\n",
    "plt.ylabel('Frequency')\n",
    "plt.title('Distribution of Sequence Lengths')\n",
    "\n",
    "bottom_99_percentile = np.percentile(sequence_lengths, 99)\n",
    "\n",
    "plt.axvline(bottom_99_percentile, color='c', linestyle='--', label='Bottom 99%')\n",
    "\n",
    "plt.legend()\n",
    "plt.show()\n",
    "\n",
    "print(\"99% of all articles have this number of tokens or less:\", bottom_99_percentile)"
   ]
  },
  {
   "cell_type": "markdown",
   "id": "04815524",
   "metadata": {},
   "source": [
    "I decided to set 99% as the marker because I needed some kind of baseline and figured that getting an idea of what ballpark a clear supermajority of articles fall under would work for a baseline. I also wanted to avoid possible data loss by setting it much lower than that, which works because this at least removes outliers from the equation."
   ]
  },
  {
   "cell_type": "code",
   "execution_count": 91,
   "id": "41db83e1",
   "metadata": {},
   "outputs": [],
   "source": [
    "# Predefined argument 3 - Input Length\n",
    "maxlen = 840\n",
    "\n",
    "# Pad (and truncate) for consistent lengths; necessary for a neural network\n",
    "X = pad_sequences(X, maxlen=maxlen)"
   ]
  },
  {
   "cell_type": "markdown",
   "id": "c590c4b4",
   "metadata": {},
   "source": [
    "### Establish, Export Model\n",
    "Now I need to set up a pair of models so that I can begin classifying news articles, whether real or fake. Keras provides a few options I can use for deep learning objectives, so I have decided to use a sequential model. The trained model will be pickled and further evaluated in Notebook 3."
   ]
  },
  {
   "cell_type": "code",
   "execution_count": 96,
   "id": "dda9d448",
   "metadata": {},
   "outputs": [],
   "source": [
    "##================#\n",
    "# Model A\n",
    "##================#\n",
    "model_a = Sequential()\n",
    "model_a.add(Embedding(input_dim=vocab_length, output_dim=embed_dim, input_length=maxlen))\n",
    "model_a.add(LSTM(units=128))\n",
    "model_a.add(Dense(units=1, activation='sigmoid'))\n",
    "\n",
    "model_a.compile(loss='binary_crossentropy', optimizer='adam', metrics=['accuracy'])"
   ]
  },
  {
   "cell_type": "code",
   "execution_count": null,
   "id": "d21cbb15",
   "metadata": {
    "scrolled": true
   },
   "outputs": [
    {
     "name": "stdout",
     "output_type": "stream",
     "text": [
      "Epoch 1/3\n",
      "287/678 [===========>..................] - ETA: 21:02 - loss: 0.1962 - accuracy: 0.9204"
     ]
    }
   ],
   "source": [
    "model_a.fit(X, y_train, epochs=3, validation_split=0.3)"
   ]
  },
  {
   "cell_type": "markdown",
   "id": "f056ac60",
   "metadata": {},
   "source": [
    "Went to bed when it was just hitting 92% accuracy; will check on it in the morning (assuming it hasn't crashed): Took close to 15 minutes to this point."
   ]
  },
  {
   "cell_type": "code",
   "execution_count": null,
   "id": "f2ebc460",
   "metadata": {},
   "outputs": [],
   "source": [
    "# Export the trained model using pickle\n",
    "pickle.dump(model_a, open('model/fakenews_model_1.pkl', 'wb'))"
   ]
  }
 ],
 "metadata": {
  "kernelspec": {
   "display_name": "Python 3 (ipykernel)",
   "language": "python",
   "name": "python3"
  },
  "language_info": {
   "codemirror_mode": {
    "name": "ipython",
    "version": 3
   },
   "file_extension": ".py",
   "mimetype": "text/x-python",
   "name": "python",
   "nbconvert_exporter": "python",
   "pygments_lexer": "ipython3",
   "version": "3.10.11"
  }
 },
 "nbformat": 4,
 "nbformat_minor": 5
}
